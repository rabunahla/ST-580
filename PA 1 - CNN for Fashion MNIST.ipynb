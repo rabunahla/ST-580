{
 "cells": [
  {
   "cell_type": "markdown",
   "id": "2ce0bd59-d572-46ec-84bc-7eea3bb8f3a2",
   "metadata": {},
   "source": [
    "For this assignment, you are asked to implement the convolutional neural network (CNN) architecture we\n",
    "developed for MNIST in class to classify objects in the Fashion MNIST dataset. This will provide a baseline\n",
    "model and predictive accuracy. From there, you will experiment with:\n",
    "- Convolutional filter sizes,\n",
    "- The number of features (channels) created by each convolutional layer, and\n",
    "- Batch size.\n",
    "  \n",
    "Your task is to observe how these changes affect both the accuracy on the test set and the training time of the\n",
    "model. This assignment will help you better understand the role of hyperparameters in CNNs and develop\n",
    "practical skills in analyzing model performance through experimentation.\n",
    "Specific Tasks\n",
    "- Baseline Model Implementation:\n",
    "  - Implement the CNN architecture we covered in class using PyTorch.\n",
    "  - Train this model on the Fashion MNIST dataset and report the baseline accuracy on the test set.\n",
    "  - Record and report the training time for the model (report all times in seconds).\n",
    "\n",
    "- Experimentation\n",
    "You should run a factorial experiment that considers all combinations of the following:\n",
    "  - Filter Size - Experiment with the size of the convolutional filters used in the two convolutional layers (3x3, 5x5) and record the effect on accuracy and training time.\n",
    "  - Number of Features – Experiment with the number of output channels (features) in each convolutional layer (e.g., double or halve the number of filters used in the original implementation) and record the effect on accuracy and training time.\n",
    "  - Batch Size - Experiment with different batch sizes (e.g., 32, 64, 128) and record the effect on accuracy and training time.\n",
    " \n",
    "- Analysis\n",
    "Create a Jupyter notebook that presents results of the experimentation. In particular:\n",
    "  - Present the baseline results (accuracy on the test set and computational time),\n",
    "  - Present the process you used to conduct the experimentation,\n",
    "  - Present and describe any impacts on accuracy and computational performance that you observe when experimenting with the various architectures."
   ]
  },
  {
   "cell_type": "code",
   "execution_count": 1,
   "id": "f5248d76-95a1-4e6c-90af-13c7a54e21c7",
   "metadata": {},
   "outputs": [],
   "source": [
    "import pathlib\n",
    "import time\n",
    "import ipywidgets\n",
    "import matplotlib.pyplot as plt\n",
    "import numpy as np\n",
    "import polars as pl\n",
    "import seaborn as sns\n",
    "from sklearn.model_selection import train_test_split\n",
    "import torch\n",
    "import torch.nn as nn\n",
    "import torch.optim as optim\n",
    "from torch.utils.data import DataLoader, Dataset\n",
    "from tqdm.auto import tqdm\n",
    "import pandas as pd"
   ]
  },
  {
   "cell_type": "code",
   "execution_count": 2,
   "id": "495456de-4bc7-4987-bdee-f04e437285b5",
   "metadata": {},
   "outputs": [],
   "source": [
    "#Loading testing data\n",
    "test_fashion_mnist_data_filepath = pathlib.Path('fashion-mnist_test.csv')\n",
    "test_fashion_mnist_data = pl.read_csv(test_fashion_mnist_data_filepath)\n",
    "\n",
    "#Identifying the target  and features of the testing data\n",
    "test_target_data = test_fashion_mnist_data.select(\"label\").cast(pl.Int32).to_dummies()\n",
    "test_feature_data = test_fashion_mnist_data.select(pl.all().exclude(\"label\"))\n",
    "test_feature_data = test_feature_data.with_columns(\n",
    "    pl.all() / 255.0\n",
    ")\n",
    "\n",
    "#Loading training data\n",
    "train_fashion_mnist_data_filepath = pathlib.Path('fashion-mnist_train.csv')\n",
    "train_fashion_mnist_data = pl.read_csv(train_fashion_mnist_data_filepath)\n",
    "\n",
    "#Identifying the target  and features of the training data\n",
    "train_target_data = train_fashion_mnist_data.select(\"label\").cast(pl.Int32).to_dummies()\n",
    "train_feature_data = train_fashion_mnist_data.select(pl.all().exclude(\"label\"))\n",
    "train_feature_data = train_feature_data.with_columns(\n",
    "    pl.all() / 255.0\n",
    ")"
   ]
  },
  {
   "cell_type": "code",
   "execution_count": 3,
   "id": "fde895ad-124e-44d4-b599-786f298e88c0",
   "metadata": {},
   "outputs": [],
   "source": [
    "#Creating a custom dataset class to get PyTorch dataloader\n",
    "class MNISTDataset(Dataset):\n",
    "    def __init__(self, features, targets):\n",
    "        self.features = features\n",
    "        self.targets = targets\n",
    "\n",
    "    def __len__(self):\n",
    "        return len(self.features)\n",
    "\n",
    "    def __getitem__(self, idx):\n",
    "        image = self.features[idx].reshape(28, 28).astype('float32')\n",
    "        label = self.targets[idx].astype('float32')\n",
    "        return torch.tensor(image), torch.tensor(label)"
   ]
  },
  {
   "cell_type": "code",
   "execution_count": 4,
   "id": "e4532605-1b46-41a7-be5f-cc303c96bbc6",
   "metadata": {},
   "outputs": [],
   "source": [
    "# Converting data to numpy arrays to use in the model training\n",
    "X_train_full = train_feature_data.to_numpy()\n",
    "y_train_full = train_target_data.to_numpy()\n",
    "\n",
    "# Splitting the training data into training (90%) and validation (10%) sets\n",
    "X_train, X_val, y_train, y_val = train_test_split(\n",
    "    X_train_full, \n",
    "    y_train_full, \n",
    "    test_size=0.10,\n",
    "    random_state=42\n",
    ")\n",
    "\n",
    "# Converting testing data to numpy arrays\n",
    "X_test = test_feature_data.to_numpy()\n",
    "y_test = test_target_data.to_numpy()\n",
    "\n",
    "# Creating Dataset objects\n",
    "train_dataset = MNISTDataset(X_train, y_train)\n",
    "val_dataset = MNISTDataset(X_val, y_val)\n",
    "test_dataset = MNISTDataset(X_test, y_test)"
   ]
  },
  {
   "cell_type": "code",
   "execution_count": 5,
   "id": "d41957fb-25d6-4490-8859-a2112de463a2",
   "metadata": {},
   "outputs": [],
   "source": [
    "# Defining the CNN Model - Two convolutional layers, pooling layers, and fully connected layers: \n",
    "class SimpleCNN(nn.Module):\n",
    "    #Defining the layers of the CNN:\n",
    "    def __init__(self, filter_size=3, out_channels=(16, 32)):\n",
    "        super(SimpleCNN, self).__init__()\n",
    "        self.conv1 = nn.Conv2d(1, out_channels[0], kernel_size=filter_size, padding=1)\n",
    "        self.pool = nn.MaxPool2d(2, 2)\n",
    "        self.conv2 = nn.Conv2d(out_channels[0], out_channels[1], kernel_size=filter_size, padding=1)\n",
    "        \n",
    "        # Calculate the size of the output from the conv layers for the fully connected layer\n",
    "        self.fc1_input_size = self._get_fc1_input_size()\n",
    "        self.fc1 = nn.Linear(self.fc1_input_size, 128)\n",
    "        self.fc2 = nn.Linear(128, 10)\n",
    "\n",
    "    def _get_fc1_input_size(self):\n",
    "        # Calculating the number of inputs in the first fully connected layer.\n",
    "        x = torch.zeros(1, 1, 28, 28)\n",
    "        x = self.pool(torch.relu(self.conv1(x)))\n",
    "        x = self.pool(torch.relu(self.conv2(x)))\n",
    "        return x.numel()\n",
    "\n",
    "    def forward(self, x):\n",
    "        #Defining the sequence of operations applied to the inputs as they move through the network. \n",
    "        x = self.pool(torch.relu(self.conv1(x)))\n",
    "        x = self.pool(torch.relu(self.conv2(x)))\n",
    "        x = x.view(-1, self.fc1_input_size)\n",
    "        x = torch.relu(self.fc1(x))\n",
    "        x = self.fc2(x)\n",
    "        return x"
   ]
  },
  {
   "cell_type": "code",
   "execution_count": 6,
   "id": "b0bc94f4-062c-41c0-97ad-7940bdb4655a",
   "metadata": {},
   "outputs": [],
   "source": [
    "# Functions for training and validation\n",
    "def train_then_validate(model, train_loader, val_loader, num_epochs=10, lr=0.001):\n",
    "    criterion = nn.CrossEntropyLoss()\n",
    "    optimizer = optim.Adam(model.parameters(), lr=lr)\n",
    "    start_time = time.time()\n",
    "\n",
    "    for epoch in range(num_epochs):\n",
    "        model.train()\n",
    "        for images, labels in train_loader:\n",
    "            optimizer.zero_grad()\n",
    "            outputs = model(images.unsqueeze(1))\n",
    "            loss = criterion(outputs, labels.argmax(dim=1))\n",
    "            loss.backward()\n",
    "            optimizer.step()\n",
    "\n",
    "        # Validation accuracy\n",
    "        model.eval()\n",
    "        correct, total = 0, 0\n",
    "        with torch.no_grad():\n",
    "            for images, labels in val_loader:\n",
    "                outputs = model(images.unsqueeze(1))\n",
    "                _, predicted = torch.max(outputs, 1)\n",
    "                total += labels.size(0)\n",
    "                correct += (predicted == labels.argmax(dim=1)).sum().item()\n",
    "\n",
    "        val_accuracy = correct / total\n",
    "        print(f\"Epoch {epoch+1}/{num_epochs}, Validation Accuracy: {val_accuracy:.4f}\")\n",
    "\n",
    "    elapsed_time = time.time() - start_time\n",
    "    return val_accuracy, elapsed_time"
   ]
  },
  {
   "cell_type": "code",
   "execution_count": null,
   "id": "dac36d0c-a2b8-43bd-99cb-caa3db880349",
   "metadata": {},
   "outputs": [],
   "source": []
  },
  {
   "cell_type": "code",
   "execution_count": null,
   "id": "90d1ed71-dc16-4401-bd6c-1b6dbc460e72",
   "metadata": {},
   "outputs": [],
   "source": []
  },
  {
   "cell_type": "markdown",
   "id": "aeb8859b-bc0c-43a7-bc76-1bbf574fd92a",
   "metadata": {},
   "source": [
    "Task One - Baseline Model Implementation:\n",
    "-"
   ]
  },
  {
   "cell_type": "code",
   "execution_count": 7,
   "id": "d31bb07d-3b55-41ed-a199-36c1d8e666a7",
   "metadata": {},
   "outputs": [
    {
     "name": "stdout",
     "output_type": "stream",
     "text": [
      "Epoch 1/10, Validation Accuracy: 0.8663\n",
      "Epoch 2/10, Validation Accuracy: 0.8897\n",
      "Epoch 3/10, Validation Accuracy: 0.8990\n",
      "Epoch 4/10, Validation Accuracy: 0.8880\n",
      "Epoch 5/10, Validation Accuracy: 0.9083\n",
      "Epoch 6/10, Validation Accuracy: 0.8897\n",
      "Epoch 7/10, Validation Accuracy: 0.9032\n",
      "Epoch 8/10, Validation Accuracy: 0.9138\n",
      "Epoch 9/10, Validation Accuracy: 0.9128\n",
      "Epoch 10/10, Validation Accuracy: 0.9157\n",
      "Baseline Model - Accuracy: 0.9157, Time: 152.19 seconds\n"
     ]
    }
   ],
   "source": [
    "#Baseline Model Training - Accuracy and computational time:\n",
    "baseline_model = SimpleCNN(filter_size=3, out_channels=(16, 32))\n",
    "train_loader = DataLoader(train_dataset, batch_size=64, shuffle=True)\n",
    "val_loader = DataLoader(val_dataset, batch_size=64, shuffle=False)\n",
    "baseline_accuracy, baseline_time = train_then_validate(baseline_model, train_loader, val_loader)\n",
    "\n",
    "print(f\"Baseline Model - Accuracy: {baseline_accuracy:.4f}, Time: {baseline_time:.2f} seconds\")"
   ]
  },
  {
   "cell_type": "markdown",
   "id": "4d3b3776-1e12-4e20-a186-f1a20317a910",
   "metadata": {},
   "source": [
    "Task Two - Experimentation:\n",
    "-"
   ]
  },
  {
   "cell_type": "code",
   "execution_count": 8,
   "id": "a235bd53-dd7b-413a-8a70-289b31cbbe98",
   "metadata": {},
   "outputs": [
    {
     "data": {
      "application/vnd.jupyter.widget-view+json": {
       "model_id": "6f555f447493479592fb33a69cf0980e",
       "version_major": 2,
       "version_minor": 0
      },
      "text/plain": [
       "Training Epoch 1:   0%|          | 0/1688 [00:00<?, ?it/s]"
      ]
     },
     "metadata": {},
     "output_type": "display_data"
    },
    {
     "data": {
      "application/vnd.jupyter.widget-view+json": {
       "model_id": "ba8d41beb4e74346bf6b88d87b2a96ea",
       "version_major": 2,
       "version_minor": 0
      },
      "text/plain": [
       "Training Epoch 2:   0%|          | 0/1688 [00:00<?, ?it/s]"
      ]
     },
     "metadata": {},
     "output_type": "display_data"
    },
    {
     "data": {
      "application/vnd.jupyter.widget-view+json": {
       "model_id": "256dd4e703b7487991bf2f319c0517a7",
       "version_major": 2,
       "version_minor": 0
      },
      "text/plain": [
       "Training Epoch 3:   0%|          | 0/1688 [00:00<?, ?it/s]"
      ]
     },
     "metadata": {},
     "output_type": "display_data"
    },
    {
     "data": {
      "application/vnd.jupyter.widget-view+json": {
       "model_id": "c174b418dfb84887814ba68d09578ac4",
       "version_major": 2,
       "version_minor": 0
      },
      "text/plain": [
       "Training Epoch 4:   0%|          | 0/1688 [00:00<?, ?it/s]"
      ]
     },
     "metadata": {},
     "output_type": "display_data"
    },
    {
     "data": {
      "application/vnd.jupyter.widget-view+json": {
       "model_id": "21e0ed210e4c4c9fb8fc877596456725",
       "version_major": 2,
       "version_minor": 0
      },
      "text/plain": [
       "Training Epoch 5:   0%|          | 0/1688 [00:00<?, ?it/s]"
      ]
     },
     "metadata": {},
     "output_type": "display_data"
    },
    {
     "data": {
      "application/vnd.jupyter.widget-view+json": {
       "model_id": "63ca1dd097f04b10830a901418a9cc64",
       "version_major": 2,
       "version_minor": 0
      },
      "text/plain": [
       "Training Epoch 6:   0%|          | 0/1688 [00:00<?, ?it/s]"
      ]
     },
     "metadata": {},
     "output_type": "display_data"
    },
    {
     "data": {
      "application/vnd.jupyter.widget-view+json": {
       "model_id": "c5b376a3351c44aabf7effe0a9458c4d",
       "version_major": 2,
       "version_minor": 0
      },
      "text/plain": [
       "Training Epoch 7:   0%|          | 0/1688 [00:00<?, ?it/s]"
      ]
     },
     "metadata": {},
     "output_type": "display_data"
    },
    {
     "data": {
      "application/vnd.jupyter.widget-view+json": {
       "model_id": "2a4b1c469d7849c4bdeb879c646ccbba",
       "version_major": 2,
       "version_minor": 0
      },
      "text/plain": [
       "Training Epoch 8:   0%|          | 0/1688 [00:00<?, ?it/s]"
      ]
     },
     "metadata": {},
     "output_type": "display_data"
    },
    {
     "data": {
      "application/vnd.jupyter.widget-view+json": {
       "model_id": "f39fe73f679d42058f2c6638b39b0c88",
       "version_major": 2,
       "version_minor": 0
      },
      "text/plain": [
       "Training Epoch 9:   0%|          | 0/1688 [00:00<?, ?it/s]"
      ]
     },
     "metadata": {},
     "output_type": "display_data"
    },
    {
     "data": {
      "application/vnd.jupyter.widget-view+json": {
       "model_id": "47d3d75d6fad48e6877adecbe2dcd4e3",
       "version_major": 2,
       "version_minor": 0
      },
      "text/plain": [
       "Training Epoch 10:   0%|          | 0/1688 [00:00<?, ?it/s]"
      ]
     },
     "metadata": {},
     "output_type": "display_data"
    },
    {
     "name": "stdout",
     "output_type": "stream",
     "text": [
      "Filter: 3, Channels: (16, 32), Batch Size: 32 -> Accuracy: 0.9223, Training Time: 153.42s\n"
     ]
    },
    {
     "data": {
      "application/vnd.jupyter.widget-view+json": {
       "model_id": "1c807f96dff24334968f9d3dacb95714",
       "version_major": 2,
       "version_minor": 0
      },
      "text/plain": [
       "Training Epoch 1:   0%|          | 0/844 [00:00<?, ?it/s]"
      ]
     },
     "metadata": {},
     "output_type": "display_data"
    },
    {
     "data": {
      "application/vnd.jupyter.widget-view+json": {
       "model_id": "108ac4f10b8f4c5ea4cf16819007db28",
       "version_major": 2,
       "version_minor": 0
      },
      "text/plain": [
       "Training Epoch 2:   0%|          | 0/844 [00:00<?, ?it/s]"
      ]
     },
     "metadata": {},
     "output_type": "display_data"
    },
    {
     "data": {
      "application/vnd.jupyter.widget-view+json": {
       "model_id": "5ea5f972ccf44fa8a1b42ee466e8daca",
       "version_major": 2,
       "version_minor": 0
      },
      "text/plain": [
       "Training Epoch 3:   0%|          | 0/844 [00:00<?, ?it/s]"
      ]
     },
     "metadata": {},
     "output_type": "display_data"
    },
    {
     "data": {
      "application/vnd.jupyter.widget-view+json": {
       "model_id": "4b6bab6573f84568b7aa9c2f16d5d727",
       "version_major": 2,
       "version_minor": 0
      },
      "text/plain": [
       "Training Epoch 4:   0%|          | 0/844 [00:00<?, ?it/s]"
      ]
     },
     "metadata": {},
     "output_type": "display_data"
    },
    {
     "data": {
      "application/vnd.jupyter.widget-view+json": {
       "model_id": "db6f4b611486452683830158e188261f",
       "version_major": 2,
       "version_minor": 0
      },
      "text/plain": [
       "Training Epoch 5:   0%|          | 0/844 [00:00<?, ?it/s]"
      ]
     },
     "metadata": {},
     "output_type": "display_data"
    },
    {
     "data": {
      "application/vnd.jupyter.widget-view+json": {
       "model_id": "fda0cc8e8ec84b25ac9067ea231f3831",
       "version_major": 2,
       "version_minor": 0
      },
      "text/plain": [
       "Training Epoch 6:   0%|          | 0/844 [00:00<?, ?it/s]"
      ]
     },
     "metadata": {},
     "output_type": "display_data"
    },
    {
     "data": {
      "application/vnd.jupyter.widget-view+json": {
       "model_id": "365f3b5c6e3a4e5f9d9dbd166f475fb0",
       "version_major": 2,
       "version_minor": 0
      },
      "text/plain": [
       "Training Epoch 7:   0%|          | 0/844 [00:00<?, ?it/s]"
      ]
     },
     "metadata": {},
     "output_type": "display_data"
    },
    {
     "data": {
      "application/vnd.jupyter.widget-view+json": {
       "model_id": "a5d5e8a43a934c84ada0fcdadc7be90d",
       "version_major": 2,
       "version_minor": 0
      },
      "text/plain": [
       "Training Epoch 8:   0%|          | 0/844 [00:00<?, ?it/s]"
      ]
     },
     "metadata": {},
     "output_type": "display_data"
    },
    {
     "data": {
      "application/vnd.jupyter.widget-view+json": {
       "model_id": "b8f5e2cdcca840869b75e08c8a3a3392",
       "version_major": 2,
       "version_minor": 0
      },
      "text/plain": [
       "Training Epoch 9:   0%|          | 0/844 [00:00<?, ?it/s]"
      ]
     },
     "metadata": {},
     "output_type": "display_data"
    },
    {
     "data": {
      "application/vnd.jupyter.widget-view+json": {
       "model_id": "4ae3f6e5c3a74f96bd93431346b53999",
       "version_major": 2,
       "version_minor": 0
      },
      "text/plain": [
       "Training Epoch 10:   0%|          | 0/844 [00:00<?, ?it/s]"
      ]
     },
     "metadata": {},
     "output_type": "display_data"
    },
    {
     "name": "stdout",
     "output_type": "stream",
     "text": [
      "Filter: 3, Channels: (16, 32), Batch Size: 64 -> Accuracy: 0.9208, Training Time: 141.81s\n"
     ]
    },
    {
     "data": {
      "application/vnd.jupyter.widget-view+json": {
       "model_id": "65fd41a54c084193a1a14b2d7f08735d",
       "version_major": 2,
       "version_minor": 0
      },
      "text/plain": [
       "Training Epoch 1:   0%|          | 0/422 [00:00<?, ?it/s]"
      ]
     },
     "metadata": {},
     "output_type": "display_data"
    },
    {
     "data": {
      "application/vnd.jupyter.widget-view+json": {
       "model_id": "50d6543692274b06b730d447a81e1906",
       "version_major": 2,
       "version_minor": 0
      },
      "text/plain": [
       "Training Epoch 2:   0%|          | 0/422 [00:00<?, ?it/s]"
      ]
     },
     "metadata": {},
     "output_type": "display_data"
    },
    {
     "data": {
      "application/vnd.jupyter.widget-view+json": {
       "model_id": "4da2e48dbdd94c6db53df105fe8f291c",
       "version_major": 2,
       "version_minor": 0
      },
      "text/plain": [
       "Training Epoch 3:   0%|          | 0/422 [00:00<?, ?it/s]"
      ]
     },
     "metadata": {},
     "output_type": "display_data"
    },
    {
     "data": {
      "application/vnd.jupyter.widget-view+json": {
       "model_id": "91eb83459e6644ac93ef2abd3405f8ba",
       "version_major": 2,
       "version_minor": 0
      },
      "text/plain": [
       "Training Epoch 4:   0%|          | 0/422 [00:00<?, ?it/s]"
      ]
     },
     "metadata": {},
     "output_type": "display_data"
    },
    {
     "data": {
      "application/vnd.jupyter.widget-view+json": {
       "model_id": "ccc61e2e373341d9b7c07205321bdb66",
       "version_major": 2,
       "version_minor": 0
      },
      "text/plain": [
       "Training Epoch 5:   0%|          | 0/422 [00:00<?, ?it/s]"
      ]
     },
     "metadata": {},
     "output_type": "display_data"
    },
    {
     "data": {
      "application/vnd.jupyter.widget-view+json": {
       "model_id": "2f11baf99045495786e2277386e6f2e1",
       "version_major": 2,
       "version_minor": 0
      },
      "text/plain": [
       "Training Epoch 6:   0%|          | 0/422 [00:00<?, ?it/s]"
      ]
     },
     "metadata": {},
     "output_type": "display_data"
    },
    {
     "data": {
      "application/vnd.jupyter.widget-view+json": {
       "model_id": "f5969be8878f476f90bb34f71a9e9d8c",
       "version_major": 2,
       "version_minor": 0
      },
      "text/plain": [
       "Training Epoch 7:   0%|          | 0/422 [00:00<?, ?it/s]"
      ]
     },
     "metadata": {},
     "output_type": "display_data"
    },
    {
     "data": {
      "application/vnd.jupyter.widget-view+json": {
       "model_id": "38c48ecb361b48679c38eb0bd81080e3",
       "version_major": 2,
       "version_minor": 0
      },
      "text/plain": [
       "Training Epoch 8:   0%|          | 0/422 [00:00<?, ?it/s]"
      ]
     },
     "metadata": {},
     "output_type": "display_data"
    },
    {
     "data": {
      "application/vnd.jupyter.widget-view+json": {
       "model_id": "32bdd3bd38f74173bf18175fb6edddfd",
       "version_major": 2,
       "version_minor": 0
      },
      "text/plain": [
       "Training Epoch 9:   0%|          | 0/422 [00:00<?, ?it/s]"
      ]
     },
     "metadata": {},
     "output_type": "display_data"
    },
    {
     "data": {
      "application/vnd.jupyter.widget-view+json": {
       "model_id": "f3ba9cb7cb0c4a8eb9c9bf5bbcbb2fcf",
       "version_major": 2,
       "version_minor": 0
      },
      "text/plain": [
       "Training Epoch 10:   0%|          | 0/422 [00:00<?, ?it/s]"
      ]
     },
     "metadata": {},
     "output_type": "display_data"
    },
    {
     "name": "stdout",
     "output_type": "stream",
     "text": [
      "Filter: 3, Channels: (16, 32), Batch Size: 128 -> Accuracy: 0.9157, Training Time: 132.41s\n"
     ]
    },
    {
     "data": {
      "application/vnd.jupyter.widget-view+json": {
       "model_id": "b23bf8e994844477b3862936dd056bd4",
       "version_major": 2,
       "version_minor": 0
      },
      "text/plain": [
       "Training Epoch 1:   0%|          | 0/1688 [00:00<?, ?it/s]"
      ]
     },
     "metadata": {},
     "output_type": "display_data"
    },
    {
     "data": {
      "application/vnd.jupyter.widget-view+json": {
       "model_id": "624ac19534e64dca9789da19c2ebe119",
       "version_major": 2,
       "version_minor": 0
      },
      "text/plain": [
       "Training Epoch 2:   0%|          | 0/1688 [00:00<?, ?it/s]"
      ]
     },
     "metadata": {},
     "output_type": "display_data"
    },
    {
     "data": {
      "application/vnd.jupyter.widget-view+json": {
       "model_id": "0854f0bb77114383bf1534d8a7e485ec",
       "version_major": 2,
       "version_minor": 0
      },
      "text/plain": [
       "Training Epoch 3:   0%|          | 0/1688 [00:00<?, ?it/s]"
      ]
     },
     "metadata": {},
     "output_type": "display_data"
    },
    {
     "data": {
      "application/vnd.jupyter.widget-view+json": {
       "model_id": "11c013a6d5b540268baa0c20d4ce0adb",
       "version_major": 2,
       "version_minor": 0
      },
      "text/plain": [
       "Training Epoch 4:   0%|          | 0/1688 [00:00<?, ?it/s]"
      ]
     },
     "metadata": {},
     "output_type": "display_data"
    },
    {
     "data": {
      "application/vnd.jupyter.widget-view+json": {
       "model_id": "1aa81631bebc49fd933271d31093afe7",
       "version_major": 2,
       "version_minor": 0
      },
      "text/plain": [
       "Training Epoch 5:   0%|          | 0/1688 [00:00<?, ?it/s]"
      ]
     },
     "metadata": {},
     "output_type": "display_data"
    },
    {
     "data": {
      "application/vnd.jupyter.widget-view+json": {
       "model_id": "ed75f170693245cb847af7b5889783fc",
       "version_major": 2,
       "version_minor": 0
      },
      "text/plain": [
       "Training Epoch 6:   0%|          | 0/1688 [00:00<?, ?it/s]"
      ]
     },
     "metadata": {},
     "output_type": "display_data"
    },
    {
     "data": {
      "application/vnd.jupyter.widget-view+json": {
       "model_id": "7d953ab8679748c1a68b911d047b97a1",
       "version_major": 2,
       "version_minor": 0
      },
      "text/plain": [
       "Training Epoch 7:   0%|          | 0/1688 [00:00<?, ?it/s]"
      ]
     },
     "metadata": {},
     "output_type": "display_data"
    },
    {
     "data": {
      "application/vnd.jupyter.widget-view+json": {
       "model_id": "0057a88e8c974aae99ecef087dcb404a",
       "version_major": 2,
       "version_minor": 0
      },
      "text/plain": [
       "Training Epoch 8:   0%|          | 0/1688 [00:00<?, ?it/s]"
      ]
     },
     "metadata": {},
     "output_type": "display_data"
    },
    {
     "data": {
      "application/vnd.jupyter.widget-view+json": {
       "model_id": "0f8565fec6c24d4db61b8af7812c167c",
       "version_major": 2,
       "version_minor": 0
      },
      "text/plain": [
       "Training Epoch 9:   0%|          | 0/1688 [00:00<?, ?it/s]"
      ]
     },
     "metadata": {},
     "output_type": "display_data"
    },
    {
     "data": {
      "application/vnd.jupyter.widget-view+json": {
       "model_id": "b92b93f4eb9748d5bae59a94a2884d4d",
       "version_major": 2,
       "version_minor": 0
      },
      "text/plain": [
       "Training Epoch 10:   0%|          | 0/1688 [00:00<?, ?it/s]"
      ]
     },
     "metadata": {},
     "output_type": "display_data"
    },
    {
     "name": "stdout",
     "output_type": "stream",
     "text": [
      "Filter: 3, Channels: (32, 64), Batch Size: 32 -> Accuracy: 0.9247, Training Time: 270.58s\n"
     ]
    },
    {
     "data": {
      "application/vnd.jupyter.widget-view+json": {
       "model_id": "805ba7457cd34c78aac99e8495b7373b",
       "version_major": 2,
       "version_minor": 0
      },
      "text/plain": [
       "Training Epoch 1:   0%|          | 0/844 [00:00<?, ?it/s]"
      ]
     },
     "metadata": {},
     "output_type": "display_data"
    },
    {
     "data": {
      "application/vnd.jupyter.widget-view+json": {
       "model_id": "639f29f4f01944359a57a89f6f14e91e",
       "version_major": 2,
       "version_minor": 0
      },
      "text/plain": [
       "Training Epoch 2:   0%|          | 0/844 [00:00<?, ?it/s]"
      ]
     },
     "metadata": {},
     "output_type": "display_data"
    },
    {
     "data": {
      "application/vnd.jupyter.widget-view+json": {
       "model_id": "dd574a9de5cc4bc0bd8b56a7e43a8917",
       "version_major": 2,
       "version_minor": 0
      },
      "text/plain": [
       "Training Epoch 3:   0%|          | 0/844 [00:00<?, ?it/s]"
      ]
     },
     "metadata": {},
     "output_type": "display_data"
    },
    {
     "data": {
      "application/vnd.jupyter.widget-view+json": {
       "model_id": "2585ff30846e49c0a2d3cdeb98f9db9a",
       "version_major": 2,
       "version_minor": 0
      },
      "text/plain": [
       "Training Epoch 4:   0%|          | 0/844 [00:00<?, ?it/s]"
      ]
     },
     "metadata": {},
     "output_type": "display_data"
    },
    {
     "data": {
      "application/vnd.jupyter.widget-view+json": {
       "model_id": "27583b17cf2c4aa585c21e990ad0af88",
       "version_major": 2,
       "version_minor": 0
      },
      "text/plain": [
       "Training Epoch 5:   0%|          | 0/844 [00:00<?, ?it/s]"
      ]
     },
     "metadata": {},
     "output_type": "display_data"
    },
    {
     "data": {
      "application/vnd.jupyter.widget-view+json": {
       "model_id": "42a3588ed455434dbf46d48e2c1bb2d9",
       "version_major": 2,
       "version_minor": 0
      },
      "text/plain": [
       "Training Epoch 6:   0%|          | 0/844 [00:00<?, ?it/s]"
      ]
     },
     "metadata": {},
     "output_type": "display_data"
    },
    {
     "data": {
      "application/vnd.jupyter.widget-view+json": {
       "model_id": "f8d56e4a3c53431a94078b5716414610",
       "version_major": 2,
       "version_minor": 0
      },
      "text/plain": [
       "Training Epoch 7:   0%|          | 0/844 [00:00<?, ?it/s]"
      ]
     },
     "metadata": {},
     "output_type": "display_data"
    },
    {
     "data": {
      "application/vnd.jupyter.widget-view+json": {
       "model_id": "aaf54371c7a84fd59b14d5ef7f2d402f",
       "version_major": 2,
       "version_minor": 0
      },
      "text/plain": [
       "Training Epoch 8:   0%|          | 0/844 [00:00<?, ?it/s]"
      ]
     },
     "metadata": {},
     "output_type": "display_data"
    },
    {
     "data": {
      "application/vnd.jupyter.widget-view+json": {
       "model_id": "a235eba78f534e63970915b3133675a1",
       "version_major": 2,
       "version_minor": 0
      },
      "text/plain": [
       "Training Epoch 9:   0%|          | 0/844 [00:00<?, ?it/s]"
      ]
     },
     "metadata": {},
     "output_type": "display_data"
    },
    {
     "data": {
      "application/vnd.jupyter.widget-view+json": {
       "model_id": "3b525c80b7f744d3ad79bed744829bfb",
       "version_major": 2,
       "version_minor": 0
      },
      "text/plain": [
       "Training Epoch 10:   0%|          | 0/844 [00:00<?, ?it/s]"
      ]
     },
     "metadata": {},
     "output_type": "display_data"
    },
    {
     "name": "stdout",
     "output_type": "stream",
     "text": [
      "Filter: 3, Channels: (32, 64), Batch Size: 64 -> Accuracy: 0.9193, Training Time: 239.73s\n"
     ]
    },
    {
     "data": {
      "application/vnd.jupyter.widget-view+json": {
       "model_id": "e8b3dcf144bb446aa9d1901c36395390",
       "version_major": 2,
       "version_minor": 0
      },
      "text/plain": [
       "Training Epoch 1:   0%|          | 0/422 [00:00<?, ?it/s]"
      ]
     },
     "metadata": {},
     "output_type": "display_data"
    },
    {
     "data": {
      "application/vnd.jupyter.widget-view+json": {
       "model_id": "4708da19f3c84512959bea8c79c5c87a",
       "version_major": 2,
       "version_minor": 0
      },
      "text/plain": [
       "Training Epoch 2:   0%|          | 0/422 [00:00<?, ?it/s]"
      ]
     },
     "metadata": {},
     "output_type": "display_data"
    },
    {
     "data": {
      "application/vnd.jupyter.widget-view+json": {
       "model_id": "4e73caeaf91f46aab5b672a241084d8b",
       "version_major": 2,
       "version_minor": 0
      },
      "text/plain": [
       "Training Epoch 3:   0%|          | 0/422 [00:00<?, ?it/s]"
      ]
     },
     "metadata": {},
     "output_type": "display_data"
    },
    {
     "data": {
      "application/vnd.jupyter.widget-view+json": {
       "model_id": "2ae53410ba1145f5ae0da80be39b99c5",
       "version_major": 2,
       "version_minor": 0
      },
      "text/plain": [
       "Training Epoch 4:   0%|          | 0/422 [00:00<?, ?it/s]"
      ]
     },
     "metadata": {},
     "output_type": "display_data"
    },
    {
     "data": {
      "application/vnd.jupyter.widget-view+json": {
       "model_id": "aa2781193c08431bb6d565a857c027ee",
       "version_major": 2,
       "version_minor": 0
      },
      "text/plain": [
       "Training Epoch 5:   0%|          | 0/422 [00:00<?, ?it/s]"
      ]
     },
     "metadata": {},
     "output_type": "display_data"
    },
    {
     "data": {
      "application/vnd.jupyter.widget-view+json": {
       "model_id": "bde51b765d214d1493139ee05e48ab49",
       "version_major": 2,
       "version_minor": 0
      },
      "text/plain": [
       "Training Epoch 6:   0%|          | 0/422 [00:00<?, ?it/s]"
      ]
     },
     "metadata": {},
     "output_type": "display_data"
    },
    {
     "data": {
      "application/vnd.jupyter.widget-view+json": {
       "model_id": "6c4b7d9ce89a487098d11ea0481dd41f",
       "version_major": 2,
       "version_minor": 0
      },
      "text/plain": [
       "Training Epoch 7:   0%|          | 0/422 [00:00<?, ?it/s]"
      ]
     },
     "metadata": {},
     "output_type": "display_data"
    },
    {
     "data": {
      "application/vnd.jupyter.widget-view+json": {
       "model_id": "fa014d230eef4e26b8cfc68508fec358",
       "version_major": 2,
       "version_minor": 0
      },
      "text/plain": [
       "Training Epoch 8:   0%|          | 0/422 [00:00<?, ?it/s]"
      ]
     },
     "metadata": {},
     "output_type": "display_data"
    },
    {
     "data": {
      "application/vnd.jupyter.widget-view+json": {
       "model_id": "8b14937d7d594e5c8cb98d492fdab224",
       "version_major": 2,
       "version_minor": 0
      },
      "text/plain": [
       "Training Epoch 9:   0%|          | 0/422 [00:00<?, ?it/s]"
      ]
     },
     "metadata": {},
     "output_type": "display_data"
    },
    {
     "data": {
      "application/vnd.jupyter.widget-view+json": {
       "model_id": "40784105b42a4ff6b8da0e16a85b5a0c",
       "version_major": 2,
       "version_minor": 0
      },
      "text/plain": [
       "Training Epoch 10:   0%|          | 0/422 [00:00<?, ?it/s]"
      ]
     },
     "metadata": {},
     "output_type": "display_data"
    },
    {
     "name": "stdout",
     "output_type": "stream",
     "text": [
      "Filter: 3, Channels: (32, 64), Batch Size: 128 -> Accuracy: 0.9237, Training Time: 221.54s\n"
     ]
    },
    {
     "data": {
      "application/vnd.jupyter.widget-view+json": {
       "model_id": "f3a85706061843e9bb40fcb82a47c14c",
       "version_major": 2,
       "version_minor": 0
      },
      "text/plain": [
       "Training Epoch 1:   0%|          | 0/1688 [00:00<?, ?it/s]"
      ]
     },
     "metadata": {},
     "output_type": "display_data"
    },
    {
     "data": {
      "application/vnd.jupyter.widget-view+json": {
       "model_id": "2e40c3b439ce498a951cc12d5214d53d",
       "version_major": 2,
       "version_minor": 0
      },
      "text/plain": [
       "Training Epoch 2:   0%|          | 0/1688 [00:00<?, ?it/s]"
      ]
     },
     "metadata": {},
     "output_type": "display_data"
    },
    {
     "data": {
      "application/vnd.jupyter.widget-view+json": {
       "model_id": "b1d8c3e121c0408481bf1ec873aa7e87",
       "version_major": 2,
       "version_minor": 0
      },
      "text/plain": [
       "Training Epoch 3:   0%|          | 0/1688 [00:00<?, ?it/s]"
      ]
     },
     "metadata": {},
     "output_type": "display_data"
    },
    {
     "data": {
      "application/vnd.jupyter.widget-view+json": {
       "model_id": "da3e375e22434687819a26b685d78f40",
       "version_major": 2,
       "version_minor": 0
      },
      "text/plain": [
       "Training Epoch 4:   0%|          | 0/1688 [00:00<?, ?it/s]"
      ]
     },
     "metadata": {},
     "output_type": "display_data"
    },
    {
     "data": {
      "application/vnd.jupyter.widget-view+json": {
       "model_id": "f7ed5d15095b4c778ed8302d37c75d37",
       "version_major": 2,
       "version_minor": 0
      },
      "text/plain": [
       "Training Epoch 5:   0%|          | 0/1688 [00:00<?, ?it/s]"
      ]
     },
     "metadata": {},
     "output_type": "display_data"
    },
    {
     "data": {
      "application/vnd.jupyter.widget-view+json": {
       "model_id": "63f43b108dfa4467a5233420e595e015",
       "version_major": 2,
       "version_minor": 0
      },
      "text/plain": [
       "Training Epoch 6:   0%|          | 0/1688 [00:00<?, ?it/s]"
      ]
     },
     "metadata": {},
     "output_type": "display_data"
    },
    {
     "data": {
      "application/vnd.jupyter.widget-view+json": {
       "model_id": "4ff315f81f3f41f09bd83bbbef628805",
       "version_major": 2,
       "version_minor": 0
      },
      "text/plain": [
       "Training Epoch 7:   0%|          | 0/1688 [00:00<?, ?it/s]"
      ]
     },
     "metadata": {},
     "output_type": "display_data"
    },
    {
     "data": {
      "application/vnd.jupyter.widget-view+json": {
       "model_id": "1606592737a04e03a13ef301d7fcb338",
       "version_major": 2,
       "version_minor": 0
      },
      "text/plain": [
       "Training Epoch 8:   0%|          | 0/1688 [00:00<?, ?it/s]"
      ]
     },
     "metadata": {},
     "output_type": "display_data"
    },
    {
     "data": {
      "application/vnd.jupyter.widget-view+json": {
       "model_id": "c9308f5785844ea0b0d5bbe3f117aeee",
       "version_major": 2,
       "version_minor": 0
      },
      "text/plain": [
       "Training Epoch 9:   0%|          | 0/1688 [00:00<?, ?it/s]"
      ]
     },
     "metadata": {},
     "output_type": "display_data"
    },
    {
     "data": {
      "application/vnd.jupyter.widget-view+json": {
       "model_id": "01570d84c10941bbba9d11f9bb92806a",
       "version_major": 2,
       "version_minor": 0
      },
      "text/plain": [
       "Training Epoch 10:   0%|          | 0/1688 [00:00<?, ?it/s]"
      ]
     },
     "metadata": {},
     "output_type": "display_data"
    },
    {
     "name": "stdout",
     "output_type": "stream",
     "text": [
      "Filter: 5, Channels: (16, 32), Batch Size: 32 -> Accuracy: 0.9120, Training Time: 213.19s\n"
     ]
    },
    {
     "data": {
      "application/vnd.jupyter.widget-view+json": {
       "model_id": "c6168fd93bec4bba95c7e0201cb43e30",
       "version_major": 2,
       "version_minor": 0
      },
      "text/plain": [
       "Training Epoch 1:   0%|          | 0/844 [00:00<?, ?it/s]"
      ]
     },
     "metadata": {},
     "output_type": "display_data"
    },
    {
     "data": {
      "application/vnd.jupyter.widget-view+json": {
       "model_id": "fff1a026fbe24211bb7000da3f7e32e9",
       "version_major": 2,
       "version_minor": 0
      },
      "text/plain": [
       "Training Epoch 2:   0%|          | 0/844 [00:00<?, ?it/s]"
      ]
     },
     "metadata": {},
     "output_type": "display_data"
    },
    {
     "data": {
      "application/vnd.jupyter.widget-view+json": {
       "model_id": "2faf07b1ec704a51bbcf6e87f005850c",
       "version_major": 2,
       "version_minor": 0
      },
      "text/plain": [
       "Training Epoch 3:   0%|          | 0/844 [00:00<?, ?it/s]"
      ]
     },
     "metadata": {},
     "output_type": "display_data"
    },
    {
     "data": {
      "application/vnd.jupyter.widget-view+json": {
       "model_id": "bb0aed780d7444debd6259707664c1c4",
       "version_major": 2,
       "version_minor": 0
      },
      "text/plain": [
       "Training Epoch 4:   0%|          | 0/844 [00:00<?, ?it/s]"
      ]
     },
     "metadata": {},
     "output_type": "display_data"
    },
    {
     "data": {
      "application/vnd.jupyter.widget-view+json": {
       "model_id": "02a143bcb8994a2fbae6ae310ba00bac",
       "version_major": 2,
       "version_minor": 0
      },
      "text/plain": [
       "Training Epoch 5:   0%|          | 0/844 [00:00<?, ?it/s]"
      ]
     },
     "metadata": {},
     "output_type": "display_data"
    },
    {
     "data": {
      "application/vnd.jupyter.widget-view+json": {
       "model_id": "dcbbce61c6d347a49071c8ba60f2e21c",
       "version_major": 2,
       "version_minor": 0
      },
      "text/plain": [
       "Training Epoch 6:   0%|          | 0/844 [00:00<?, ?it/s]"
      ]
     },
     "metadata": {},
     "output_type": "display_data"
    },
    {
     "data": {
      "application/vnd.jupyter.widget-view+json": {
       "model_id": "742ccdcc9e094aff9122888d7ad48216",
       "version_major": 2,
       "version_minor": 0
      },
      "text/plain": [
       "Training Epoch 7:   0%|          | 0/844 [00:00<?, ?it/s]"
      ]
     },
     "metadata": {},
     "output_type": "display_data"
    },
    {
     "data": {
      "application/vnd.jupyter.widget-view+json": {
       "model_id": "364c8f04b94b4a55977e0b1e9121d80b",
       "version_major": 2,
       "version_minor": 0
      },
      "text/plain": [
       "Training Epoch 8:   0%|          | 0/844 [00:00<?, ?it/s]"
      ]
     },
     "metadata": {},
     "output_type": "display_data"
    },
    {
     "data": {
      "application/vnd.jupyter.widget-view+json": {
       "model_id": "fe3fabf6862640bca03e3834ce3142b1",
       "version_major": 2,
       "version_minor": 0
      },
      "text/plain": [
       "Training Epoch 9:   0%|          | 0/844 [00:00<?, ?it/s]"
      ]
     },
     "metadata": {},
     "output_type": "display_data"
    },
    {
     "data": {
      "application/vnd.jupyter.widget-view+json": {
       "model_id": "14a08471e65c44ecb5cd953fdbf5d410",
       "version_major": 2,
       "version_minor": 0
      },
      "text/plain": [
       "Training Epoch 10:   0%|          | 0/844 [00:00<?, ?it/s]"
      ]
     },
     "metadata": {},
     "output_type": "display_data"
    },
    {
     "name": "stdout",
     "output_type": "stream",
     "text": [
      "Filter: 5, Channels: (16, 32), Batch Size: 64 -> Accuracy: 0.9162, Training Time: 181.29s\n"
     ]
    },
    {
     "data": {
      "application/vnd.jupyter.widget-view+json": {
       "model_id": "7a11bca3eb8e47e0bca6c87a58a3fd1c",
       "version_major": 2,
       "version_minor": 0
      },
      "text/plain": [
       "Training Epoch 1:   0%|          | 0/422 [00:00<?, ?it/s]"
      ]
     },
     "metadata": {},
     "output_type": "display_data"
    },
    {
     "data": {
      "application/vnd.jupyter.widget-view+json": {
       "model_id": "1939c8577d6d48cf92b208bcc5aad580",
       "version_major": 2,
       "version_minor": 0
      },
      "text/plain": [
       "Training Epoch 2:   0%|          | 0/422 [00:00<?, ?it/s]"
      ]
     },
     "metadata": {},
     "output_type": "display_data"
    },
    {
     "data": {
      "application/vnd.jupyter.widget-view+json": {
       "model_id": "4a925773a1534265b5f18bc6f7ab74c0",
       "version_major": 2,
       "version_minor": 0
      },
      "text/plain": [
       "Training Epoch 3:   0%|          | 0/422 [00:00<?, ?it/s]"
      ]
     },
     "metadata": {},
     "output_type": "display_data"
    },
    {
     "data": {
      "application/vnd.jupyter.widget-view+json": {
       "model_id": "53057c62d0074a0b96a9e39ec1ab7b37",
       "version_major": 2,
       "version_minor": 0
      },
      "text/plain": [
       "Training Epoch 4:   0%|          | 0/422 [00:00<?, ?it/s]"
      ]
     },
     "metadata": {},
     "output_type": "display_data"
    },
    {
     "data": {
      "application/vnd.jupyter.widget-view+json": {
       "model_id": "e93fe0ea41db4ef29ebeb8e60120ec09",
       "version_major": 2,
       "version_minor": 0
      },
      "text/plain": [
       "Training Epoch 5:   0%|          | 0/422 [00:00<?, ?it/s]"
      ]
     },
     "metadata": {},
     "output_type": "display_data"
    },
    {
     "data": {
      "application/vnd.jupyter.widget-view+json": {
       "model_id": "4cd93da36ec94626898c7572d642e45d",
       "version_major": 2,
       "version_minor": 0
      },
      "text/plain": [
       "Training Epoch 6:   0%|          | 0/422 [00:00<?, ?it/s]"
      ]
     },
     "metadata": {},
     "output_type": "display_data"
    },
    {
     "data": {
      "application/vnd.jupyter.widget-view+json": {
       "model_id": "ed08318b516a4123b09ff5d35dba3bef",
       "version_major": 2,
       "version_minor": 0
      },
      "text/plain": [
       "Training Epoch 7:   0%|          | 0/422 [00:00<?, ?it/s]"
      ]
     },
     "metadata": {},
     "output_type": "display_data"
    },
    {
     "data": {
      "application/vnd.jupyter.widget-view+json": {
       "model_id": "c0a2faa50981448cb8b929050e40c482",
       "version_major": 2,
       "version_minor": 0
      },
      "text/plain": [
       "Training Epoch 8:   0%|          | 0/422 [00:00<?, ?it/s]"
      ]
     },
     "metadata": {},
     "output_type": "display_data"
    },
    {
     "data": {
      "application/vnd.jupyter.widget-view+json": {
       "model_id": "8a79c60b837542e8b4d2c4debbe504ae",
       "version_major": 2,
       "version_minor": 0
      },
      "text/plain": [
       "Training Epoch 9:   0%|          | 0/422 [00:00<?, ?it/s]"
      ]
     },
     "metadata": {},
     "output_type": "display_data"
    },
    {
     "data": {
      "application/vnd.jupyter.widget-view+json": {
       "model_id": "4ff7b360f1c64cfaaf485bb084d6cca1",
       "version_major": 2,
       "version_minor": 0
      },
      "text/plain": [
       "Training Epoch 10:   0%|          | 0/422 [00:00<?, ?it/s]"
      ]
     },
     "metadata": {},
     "output_type": "display_data"
    },
    {
     "name": "stdout",
     "output_type": "stream",
     "text": [
      "Filter: 5, Channels: (16, 32), Batch Size: 128 -> Accuracy: 0.9120, Training Time: 176.91s\n"
     ]
    },
    {
     "data": {
      "application/vnd.jupyter.widget-view+json": {
       "model_id": "4166b23fccaf41f8b23c6ca6903dde55",
       "version_major": 2,
       "version_minor": 0
      },
      "text/plain": [
       "Training Epoch 1:   0%|          | 0/1688 [00:00<?, ?it/s]"
      ]
     },
     "metadata": {},
     "output_type": "display_data"
    },
    {
     "data": {
      "application/vnd.jupyter.widget-view+json": {
       "model_id": "1275fc1ba19f48779f4a63b032680cff",
       "version_major": 2,
       "version_minor": 0
      },
      "text/plain": [
       "Training Epoch 2:   0%|          | 0/1688 [00:00<?, ?it/s]"
      ]
     },
     "metadata": {},
     "output_type": "display_data"
    },
    {
     "data": {
      "application/vnd.jupyter.widget-view+json": {
       "model_id": "402fe528bff84583a4c9f12875268411",
       "version_major": 2,
       "version_minor": 0
      },
      "text/plain": [
       "Training Epoch 3:   0%|          | 0/1688 [00:00<?, ?it/s]"
      ]
     },
     "metadata": {},
     "output_type": "display_data"
    },
    {
     "data": {
      "application/vnd.jupyter.widget-view+json": {
       "model_id": "86e84b7fdc784efe94782baf90f4743c",
       "version_major": 2,
       "version_minor": 0
      },
      "text/plain": [
       "Training Epoch 4:   0%|          | 0/1688 [00:00<?, ?it/s]"
      ]
     },
     "metadata": {},
     "output_type": "display_data"
    },
    {
     "data": {
      "application/vnd.jupyter.widget-view+json": {
       "model_id": "27f9815680bb4e628ed846fe2bd82766",
       "version_major": 2,
       "version_minor": 0
      },
      "text/plain": [
       "Training Epoch 5:   0%|          | 0/1688 [00:00<?, ?it/s]"
      ]
     },
     "metadata": {},
     "output_type": "display_data"
    },
    {
     "data": {
      "application/vnd.jupyter.widget-view+json": {
       "model_id": "1a62bd94575447b18edb729e1ad8762b",
       "version_major": 2,
       "version_minor": 0
      },
      "text/plain": [
       "Training Epoch 6:   0%|          | 0/1688 [00:00<?, ?it/s]"
      ]
     },
     "metadata": {},
     "output_type": "display_data"
    },
    {
     "data": {
      "application/vnd.jupyter.widget-view+json": {
       "model_id": "0589da333e5c4bcd929b15378286756c",
       "version_major": 2,
       "version_minor": 0
      },
      "text/plain": [
       "Training Epoch 7:   0%|          | 0/1688 [00:00<?, ?it/s]"
      ]
     },
     "metadata": {},
     "output_type": "display_data"
    },
    {
     "data": {
      "application/vnd.jupyter.widget-view+json": {
       "model_id": "2eaa98e888514c3888c5a3b9bba612b0",
       "version_major": 2,
       "version_minor": 0
      },
      "text/plain": [
       "Training Epoch 8:   0%|          | 0/1688 [00:00<?, ?it/s]"
      ]
     },
     "metadata": {},
     "output_type": "display_data"
    },
    {
     "data": {
      "application/vnd.jupyter.widget-view+json": {
       "model_id": "b4badaa5b2f24787884ec5aeb99dfd2d",
       "version_major": 2,
       "version_minor": 0
      },
      "text/plain": [
       "Training Epoch 9:   0%|          | 0/1688 [00:00<?, ?it/s]"
      ]
     },
     "metadata": {},
     "output_type": "display_data"
    },
    {
     "data": {
      "application/vnd.jupyter.widget-view+json": {
       "model_id": "d7ee7cd798414c2dbcd143c4ffdd03b4",
       "version_major": 2,
       "version_minor": 0
      },
      "text/plain": [
       "Training Epoch 10:   0%|          | 0/1688 [00:00<?, ?it/s]"
      ]
     },
     "metadata": {},
     "output_type": "display_data"
    },
    {
     "name": "stdout",
     "output_type": "stream",
     "text": [
      "Filter: 5, Channels: (32, 64), Batch Size: 32 -> Accuracy: 0.9090, Training Time: 361.21s\n"
     ]
    },
    {
     "data": {
      "application/vnd.jupyter.widget-view+json": {
       "model_id": "9a37738cd35d497fb630230ecef77835",
       "version_major": 2,
       "version_minor": 0
      },
      "text/plain": [
       "Training Epoch 1:   0%|          | 0/844 [00:00<?, ?it/s]"
      ]
     },
     "metadata": {},
     "output_type": "display_data"
    },
    {
     "data": {
      "application/vnd.jupyter.widget-view+json": {
       "model_id": "d537297c3c6244319da91aa8d357da75",
       "version_major": 2,
       "version_minor": 0
      },
      "text/plain": [
       "Training Epoch 2:   0%|          | 0/844 [00:00<?, ?it/s]"
      ]
     },
     "metadata": {},
     "output_type": "display_data"
    },
    {
     "data": {
      "application/vnd.jupyter.widget-view+json": {
       "model_id": "6e4f10dacc0144d2925df063891c34e0",
       "version_major": 2,
       "version_minor": 0
      },
      "text/plain": [
       "Training Epoch 3:   0%|          | 0/844 [00:00<?, ?it/s]"
      ]
     },
     "metadata": {},
     "output_type": "display_data"
    },
    {
     "data": {
      "application/vnd.jupyter.widget-view+json": {
       "model_id": "28e00df0612f46869bc6904e5178fcd2",
       "version_major": 2,
       "version_minor": 0
      },
      "text/plain": [
       "Training Epoch 4:   0%|          | 0/844 [00:00<?, ?it/s]"
      ]
     },
     "metadata": {},
     "output_type": "display_data"
    },
    {
     "data": {
      "application/vnd.jupyter.widget-view+json": {
       "model_id": "47dbc8edc10c4a6e8279094e766a7561",
       "version_major": 2,
       "version_minor": 0
      },
      "text/plain": [
       "Training Epoch 5:   0%|          | 0/844 [00:00<?, ?it/s]"
      ]
     },
     "metadata": {},
     "output_type": "display_data"
    },
    {
     "data": {
      "application/vnd.jupyter.widget-view+json": {
       "model_id": "092ab729fd764f46ba7c36e124c9ce39",
       "version_major": 2,
       "version_minor": 0
      },
      "text/plain": [
       "Training Epoch 6:   0%|          | 0/844 [00:00<?, ?it/s]"
      ]
     },
     "metadata": {},
     "output_type": "display_data"
    },
    {
     "data": {
      "application/vnd.jupyter.widget-view+json": {
       "model_id": "03e70d0657fa4b97853ba99fb24cedf4",
       "version_major": 2,
       "version_minor": 0
      },
      "text/plain": [
       "Training Epoch 7:   0%|          | 0/844 [00:00<?, ?it/s]"
      ]
     },
     "metadata": {},
     "output_type": "display_data"
    },
    {
     "data": {
      "application/vnd.jupyter.widget-view+json": {
       "model_id": "28b3ef6352cc4ad9bcada403f4d64518",
       "version_major": 2,
       "version_minor": 0
      },
      "text/plain": [
       "Training Epoch 8:   0%|          | 0/844 [00:00<?, ?it/s]"
      ]
     },
     "metadata": {},
     "output_type": "display_data"
    },
    {
     "data": {
      "application/vnd.jupyter.widget-view+json": {
       "model_id": "7b7d5cc55db64dff8d102a93e1f679f1",
       "version_major": 2,
       "version_minor": 0
      },
      "text/plain": [
       "Training Epoch 9:   0%|          | 0/844 [00:00<?, ?it/s]"
      ]
     },
     "metadata": {},
     "output_type": "display_data"
    },
    {
     "data": {
      "application/vnd.jupyter.widget-view+json": {
       "model_id": "5ed0c0a5f8604631a8357fc610f5aa49",
       "version_major": 2,
       "version_minor": 0
      },
      "text/plain": [
       "Training Epoch 10:   0%|          | 0/844 [00:00<?, ?it/s]"
      ]
     },
     "metadata": {},
     "output_type": "display_data"
    },
    {
     "name": "stdout",
     "output_type": "stream",
     "text": [
      "Filter: 5, Channels: (32, 64), Batch Size: 64 -> Accuracy: 0.9130, Training Time: 339.48s\n"
     ]
    },
    {
     "data": {
      "application/vnd.jupyter.widget-view+json": {
       "model_id": "1d774535c37b42a790e4d57a16d5dc6c",
       "version_major": 2,
       "version_minor": 0
      },
      "text/plain": [
       "Training Epoch 1:   0%|          | 0/422 [00:00<?, ?it/s]"
      ]
     },
     "metadata": {},
     "output_type": "display_data"
    },
    {
     "data": {
      "application/vnd.jupyter.widget-view+json": {
       "model_id": "79e4bf8a1b4148fa8c02ac786ee749b4",
       "version_major": 2,
       "version_minor": 0
      },
      "text/plain": [
       "Training Epoch 2:   0%|          | 0/422 [00:00<?, ?it/s]"
      ]
     },
     "metadata": {},
     "output_type": "display_data"
    },
    {
     "data": {
      "application/vnd.jupyter.widget-view+json": {
       "model_id": "027dfdcd4daa4e7ca3989d4854de69d2",
       "version_major": 2,
       "version_minor": 0
      },
      "text/plain": [
       "Training Epoch 3:   0%|          | 0/422 [00:00<?, ?it/s]"
      ]
     },
     "metadata": {},
     "output_type": "display_data"
    },
    {
     "data": {
      "application/vnd.jupyter.widget-view+json": {
       "model_id": "e52780f0b8f84c5e8a7424fe4804846c",
       "version_major": 2,
       "version_minor": 0
      },
      "text/plain": [
       "Training Epoch 4:   0%|          | 0/422 [00:00<?, ?it/s]"
      ]
     },
     "metadata": {},
     "output_type": "display_data"
    },
    {
     "data": {
      "application/vnd.jupyter.widget-view+json": {
       "model_id": "19b710a51e4d457fa6b10450c9e9f418",
       "version_major": 2,
       "version_minor": 0
      },
      "text/plain": [
       "Training Epoch 5:   0%|          | 0/422 [00:00<?, ?it/s]"
      ]
     },
     "metadata": {},
     "output_type": "display_data"
    },
    {
     "data": {
      "application/vnd.jupyter.widget-view+json": {
       "model_id": "b343fbaa8e234c8485232da3041d8127",
       "version_major": 2,
       "version_minor": 0
      },
      "text/plain": [
       "Training Epoch 6:   0%|          | 0/422 [00:00<?, ?it/s]"
      ]
     },
     "metadata": {},
     "output_type": "display_data"
    },
    {
     "data": {
      "application/vnd.jupyter.widget-view+json": {
       "model_id": "9ba36dc21aca4100b9688aa8e37facce",
       "version_major": 2,
       "version_minor": 0
      },
      "text/plain": [
       "Training Epoch 7:   0%|          | 0/422 [00:00<?, ?it/s]"
      ]
     },
     "metadata": {},
     "output_type": "display_data"
    },
    {
     "data": {
      "application/vnd.jupyter.widget-view+json": {
       "model_id": "c6dcd3e862ff417c98296eb9e29c29c9",
       "version_major": 2,
       "version_minor": 0
      },
      "text/plain": [
       "Training Epoch 8:   0%|          | 0/422 [00:00<?, ?it/s]"
      ]
     },
     "metadata": {},
     "output_type": "display_data"
    },
    {
     "data": {
      "application/vnd.jupyter.widget-view+json": {
       "model_id": "c8448967f50340d7890f5a8e0615cb37",
       "version_major": 2,
       "version_minor": 0
      },
      "text/plain": [
       "Training Epoch 9:   0%|          | 0/422 [00:00<?, ?it/s]"
      ]
     },
     "metadata": {},
     "output_type": "display_data"
    },
    {
     "data": {
      "application/vnd.jupyter.widget-view+json": {
       "model_id": "8ddf0ec0bc1140ea95369be3ac6f3014",
       "version_major": 2,
       "version_minor": 0
      },
      "text/plain": [
       "Training Epoch 10:   0%|          | 0/422 [00:00<?, ?it/s]"
      ]
     },
     "metadata": {},
     "output_type": "display_data"
    },
    {
     "name": "stdout",
     "output_type": "stream",
     "text": [
      "Filter: 5, Channels: (32, 64), Batch Size: 128 -> Accuracy: 0.9100, Training Time: 300.56s\n",
      "{'filter_size': 3, 'out_channels': (16, 32), 'batch_size': 32, 'accuracy': 0.9223333333333333, 'training_time': 153.41927886009216}\n",
      "{'filter_size': 3, 'out_channels': (16, 32), 'batch_size': 64, 'accuracy': 0.9208333333333333, 'training_time': 141.80812096595764}\n",
      "{'filter_size': 3, 'out_channels': (16, 32), 'batch_size': 128, 'accuracy': 0.9156666666666666, 'training_time': 132.4050257205963}\n",
      "{'filter_size': 3, 'out_channels': (32, 64), 'batch_size': 32, 'accuracy': 0.9246666666666666, 'training_time': 270.57590985298157}\n",
      "{'filter_size': 3, 'out_channels': (32, 64), 'batch_size': 64, 'accuracy': 0.9193333333333333, 'training_time': 239.7297658920288}\n",
      "{'filter_size': 3, 'out_channels': (32, 64), 'batch_size': 128, 'accuracy': 0.9236666666666666, 'training_time': 221.54289627075195}\n",
      "{'filter_size': 5, 'out_channels': (16, 32), 'batch_size': 32, 'accuracy': 0.912, 'training_time': 213.18571281433105}\n",
      "{'filter_size': 5, 'out_channels': (16, 32), 'batch_size': 64, 'accuracy': 0.9161666666666667, 'training_time': 181.2881157398224}\n",
      "{'filter_size': 5, 'out_channels': (16, 32), 'batch_size': 128, 'accuracy': 0.912, 'training_time': 176.911119222641}\n",
      "{'filter_size': 5, 'out_channels': (32, 64), 'batch_size': 32, 'accuracy': 0.909, 'training_time': 361.20706391334534}\n",
      "{'filter_size': 5, 'out_channels': (32, 64), 'batch_size': 64, 'accuracy': 0.913, 'training_time': 339.4761652946472}\n",
      "{'filter_size': 5, 'out_channels': (32, 64), 'batch_size': 128, 'accuracy': 0.91, 'training_time': 300.56039094924927}\n"
     ]
    }
   ],
   "source": [
    "# Defining hyperparameter configurations\n",
    "filter_sizes = [3, 5]\n",
    "out_channel_configs = [(16, 32), (32, 64)]\n",
    "batch_sizes = [32, 64, 128]\n",
    "learning_rate = 0.001\n",
    "num_epochs = 10\n",
    "\n",
    "# To store results\n",
    "results = []\n",
    "\n",
    "# Running experiments for each combination\n",
    "for filter_size in filter_sizes:\n",
    "    for out_channels in out_channel_configs:\n",
    "        for batch_size in batch_sizes:\n",
    "            model = SimpleCNN(filter_size=filter_size, out_channels=out_channels)\n",
    "            criterion = nn.CrossEntropyLoss()\n",
    "            optimizer = optim.Adam(model.parameters(), lr=learning_rate)       \n",
    "            train_loader = DataLoader(train_dataset, batch_size=batch_size, shuffle=True)\n",
    "            val_loader = DataLoader(val_dataset, batch_size=batch_size, shuffle=False)\n",
    "\n",
    "            # Record training time\n",
    "            start_time = time.time()\n",
    "            \n",
    "            # Training loop\n",
    "            for epoch in range(num_epochs):\n",
    "                model.train()\n",
    "                running_loss = 0.0\n",
    "                for images, labels in tqdm(train_loader, desc=f\"Training Epoch {epoch + 1}\"):\n",
    "                    images = images.unsqueeze(1) \n",
    "                    optimizer.zero_grad()\n",
    "                    outputs = model(images)\n",
    "                    labels = torch.argmax(labels, dim=1)\n",
    "                    loss = criterion(outputs, labels)\n",
    "                    loss.backward()\n",
    "                    optimizer.step()\n",
    "                    running_loss += loss.item()\n",
    "            \n",
    "            # Calculate training time\n",
    "            training_time = time.time() - start_time\n",
    "            \n",
    "            # Validation loop to check accuracy\n",
    "            model.eval()\n",
    "            correct = 0\n",
    "            total = 0\n",
    "            with torch.no_grad():\n",
    "                for images, labels in val_loader:\n",
    "                    images = images.unsqueeze(1)\n",
    "                    outputs = model(images)\n",
    "                    _, predicted = torch.max(outputs.data, 1)\n",
    "                    labels = torch.argmax(labels, dim=1)\n",
    "                    total += labels.size(0)\n",
    "                    correct += (predicted == labels).sum().item()\n",
    "            accuracy = correct / total\n",
    "            \n",
    "            results.append({\n",
    "                \"filter_size\": filter_size,\n",
    "                \"out_channels\": out_channels,\n",
    "                \"batch_size\": batch_size,\n",
    "                \"accuracy\": accuracy,\n",
    "                \"training_time\": training_time\n",
    "            })\n",
    "            print(f\"Filter: {filter_size}, Channels: {out_channels}, Batch Size: {batch_size} -> Accuracy: {accuracy:.4f}, Training Time: {training_time:.2f}s\")\n",
    "\n",
    "#Results\n",
    "for result in results:\n",
    "    print(result)"
   ]
  },
  {
   "cell_type": "code",
   "execution_count": null,
   "id": "6c85acc2-70fe-4ce4-8db1-07bf37a49e78",
   "metadata": {},
   "outputs": [],
   "source": []
  },
  {
   "cell_type": "code",
   "execution_count": null,
   "id": "f1ebe69a-21cb-4667-90e5-3dc0e2df9eda",
   "metadata": {},
   "outputs": [],
   "source": []
  },
  {
   "cell_type": "markdown",
   "id": "13fe66b9-1091-4ee2-ab03-7c8e1b13c70d",
   "metadata": {},
   "source": [
    "Task 3: Analysis \n",
    "-"
   ]
  },
  {
   "cell_type": "markdown",
   "id": "57198c69-1c17-45bd-9ea8-614b874478b0",
   "metadata": {},
   "source": [
    "Observations:\n",
    "-\n",
    "Filter Size (3x3 vs. 5x5)\n",
    "- 3x3 Filter: Models using a 3x3 filter generally performed faster and maintained higher accuracy than those using a 5x5 filter. Using smaller filters reduce computation requirements per convolutional layer, resulting in faster training times.\n",
    "\n",
    "\n",
    "Channel Depth (16-32 vs. 32-64)\n",
    "- (16, 32) Channels: Models with 16 and 32 channels achieved decent accuracies with less training time. The models performed efficiently with smaller batch sizes.\n",
    "- (32, 64) Channels: Increasing channel depth to (32, 64) increased the model’s capacity, resulting in an accuracy boost in some configurations and longer required training times, especially with larger filter sizes and batch sizes.\n",
    "\n",
    "Batch Size (32, 64, 128)\n",
    "- Batch Size of 32: Smaller batch sizes (32) provided the best balance between accuracy and training time. \n",
    "- Batch Size of 64: Accuracy slightly declined for most configurations with a batch size of 64, though training time was reduced compared to a batch size of 32. \n",
    "- Batch Size of 128: The largest batch size (128) consistently resulted in lower accuracy compared to smaller batch sizes across all configurations, however, the models that used a batch size of 128 were very efficient with training time.\n",
    "\n",
    "The optimal model:\n",
    "-\n",
    "\n",
    "- Optimal architecture for highest accuracy:\n",
    "  - A 3x3 filter\n",
    "  - Channel Depth of 32-63\n",
    "  - Batch size of 32\n",
    "\n",
    "\n",
    "- Optimal architecture for efficient computational performance:\n",
    "  - A 5x5 filter\n",
    "  - Channel Depth of 16-32\n",
    "  - Batch size of 128"
   ]
  },
  {
   "cell_type": "code",
   "execution_count": 12,
   "id": "3949afa4-056e-461d-9d55-4f21194da708",
   "metadata": {},
   "outputs": [
    {
     "data": {
      "image/png": "[encoded data removed]",
      "text/plain": [
       "<Figure size 1200x600 with 1 Axes>"
      ]
     },
     "metadata": {},
     "output_type": "display_data"
    }
   ],
   "source": [
    "#Visually comparing output channels at different filter sizes:\n",
    "\n",
    "results_df = pd.DataFrame(results)\n",
    "plt.figure(figsize=(12, 6))\n",
    "sns.barplot(data=results_df, x='filter_size', y='accuracy', hue='out_channels')\n",
    "plt.title('Accuracy for Different Filter Sizes and Output Channels')\n",
    "plt.xlabel('Filter Size')\n",
    "plt.ylabel('Accuracy')\n",
    "plt.legend(title='Output Channels')\n",
    "plt.show()"
   ]
  },
  {
   "cell_type": "markdown",
   "id": "be8204da-0d90-4a75-8dde-f41b91684b17",
   "metadata": {},
   "source": [
    "Analysis:\n",
    "-\n",
    "- It appears that increasing the filter size or the number of outputs didn't greatly impact the accuracy in this case, proving that the baseline model is already performing well. "
   ]
  },
  {
   "cell_type": "code",
   "execution_count": 13,
   "id": "61e938f6-0f4d-4e27-b39b-d83432392ab1",
   "metadata": {},
   "outputs": [
    {
     "data": {
      "image/png": "[encoded data removed]",
      "text/plain": [
       "<Figure size 1000x600 with 1 Axes>"
      ]
     },
     "metadata": {},
     "output_type": "display_data"
    }
   ],
   "source": [
    "# Box plot to visually examin the relationship between Training Time across Batch Sizes\n",
    "\n",
    "plt.figure(figsize=(10, 6))\n",
    "sns.boxplot(data=results_df, x='batch_size', y='training_time')\n",
    "plt.title('Training Time Distribution by Batch Size')\n",
    "plt.xlabel('Batch Size')\n",
    "plt.ylabel('Training Time (seconds)')\n",
    "plt.grid()\n",
    "plt.show()"
   ]
  },
  {
   "cell_type": "markdown",
   "id": "3cb1697b-5f51-40b0-b72b-d85892e71a65",
   "metadata": {},
   "source": [
    "Analysis:\n",
    "-\n",
    "- Batch size 32 has the highest median training time, around 350 seconds.\n",
    "- Batch size 64 has a broader interquartile range and a lower median than batch size 32. \n",
    "- Batch size 128 shows the lowesr median training time and lower spread compared to the other two batches, indicating more consistent training times.\n",
    "- As the batch size increases, the training time decreases. "
   ]
  },
  {
   "cell_type": "code",
   "execution_count": 15,
   "id": "848bc115-2ae2-498d-9e95-0c4361a7861d",
   "metadata": {},
   "outputs": [
    {
     "data": {
      "image/png": "[encoded data removed]",
      "text/plain": [
       "<Figure size 1000x600 with 1 Axes>"
      ]
     },
     "metadata": {},
     "output_type": "display_data"
    }
   ],
   "source": [
    "#Visually examine the relationship between Accuracy and Batch Size\n",
    "\n",
    "plt.figure(figsize=(10, 6))\n",
    "plt.plot(results_df['batch_size'], results_df['accuracy'], marker='o', linestyle='-')\n",
    "plt.title('Accuracy Distribution by Batch Size')\n",
    "plt.xlabel('Batch Size')\n",
    "plt.ylabel('Accuracy')\n",
    "plt.xticks(results_df['batch_size']) \n",
    "plt.grid()\n",
    "plt.show()"
   ]
  },
  {
   "cell_type": "markdown",
   "id": "680ae511-ea0a-4b33-826d-4def8e3b95b9",
   "metadata": {},
   "source": [
    "Analysis:\n",
    "-\n",
    "- The results reveal a lack of consistency in accuracy trends relative to batch size. Although smaller batch sizes tend to achieve higher accuracy in several configurations, this is not always true. There are notable cases where batch sizes of 64 or even 128 produce the highest accuracy levels, suggesting that batch size alone is not the primary factor of model performance. Instead, the interaction between batch size and other hyperparameters likely plays a significant role in shaping accuracy outcomes. "
   ]
  },
  {
   "cell_type": "code",
   "execution_count": 28,
   "id": "f197b809-7894-4801-babd-a9496fcdfd37",
   "metadata": {},
   "outputs": [
    {
     "data": {
      "image/png": "[encoded data removed]",
      "text/plain": [
       "<Figure size 1000x600 with 1 Axes>"
      ]
     },
     "metadata": {},
     "output_type": "display_data"
    }
   ],
   "source": [
    "#Visually examine the relationship between Accuracy and Filter Size\n",
    "\n",
    "plt.figure(figsize=(10, 6))\n",
    "plt.plot(results_df['filter_size'], results_df['accuracy'], marker='o', linestyle='-', color='b')\n",
    "plt.xlabel(\"Filter Size\")\n",
    "plt.ylabel(\"Accuracy\")\n",
    "plt.title(\"Accuracy Distribution by Filter Size\")\n",
    "plt.grid(True)\n",
    "plt.show()"
   ]
  },
  {
   "cell_type": "code",
   "execution_count": 26,
   "id": "bc1256fb-1712-41b4-9504-b1250b78b54e",
   "metadata": {},
   "outputs": [
    {
     "name": "stdout",
     "output_type": "stream",
     "text": [
      "filter_size\n",
      "3    0.921083\n",
      "5    0.912028\n",
      "Name: accuracy, dtype: float64\n"
     ]
    }
   ],
   "source": [
    "average_accuracy_per_filter = results_df.groupby('filter_size')['accuracy'].mean()\n",
    "print(average_accuracy_per_filter)"
   ]
  },
  {
   "cell_type": "markdown",
   "id": "756f7a84-4bef-40f7-933a-323a8189c9dd",
   "metadata": {},
   "source": [
    "Analysis:\n",
    "-\n",
    "- The graph shows an inverse relationship between accuracy and filter size. A smaller filter size has the highest accuracy values, averaging around 0.92028. This suggests that the model performs better with finer filters, possibly because smaller filters capture more detailed features within the data than bigger filters.\n",
    "- The vertical line extending from each data point indicate that there’s a range of accuracy values for each filter size, due to differences in other hyperparameters "
   ]
  },
  {
   "cell_type": "code",
   "execution_count": 27,
   "id": "61663d84-7653-4dcc-a577-c336a9cc1382",
   "metadata": {},
   "outputs": [
    {
     "data": {
      "image/png": "[encoded data removed]",
      "text/plain": [
       "<Figure size 1000x600 with 1 Axes>"
      ]
     },
     "metadata": {},
     "output_type": "display_data"
    }
   ],
   "source": [
    "#Visually examine the relationship between Time Training and Filter Size\n",
    "\n",
    "plt.figure(figsize=(10, 6))\n",
    "plt.plot(results_df['filter_size'], results_df['training_time'], marker='o', color='orange', linestyle='-')\n",
    "plt.title('Training Time Distribution by Filter Size')\n",
    "plt.xlabel('Filter Size')\n",
    "plt.ylabel('Training Time (in seconds)')\n",
    "plt.grid(True)\n",
    "plt.show()"
   ]
  },
  {
   "cell_type": "code",
   "execution_count": 31,
   "id": "355fb474-3f7e-457e-935b-6be761b4babd",
   "metadata": {},
   "outputs": [
    {
     "name": "stdout",
     "output_type": "stream",
     "text": [
      "filter_size\n",
      "3    193.246833\n",
      "5    262.104761\n",
      "Name: training_time, dtype: float64\n"
     ]
    }
   ],
   "source": [
    "average_accuracy_per_filter = results_df.groupby('filter_size')['training_time'].mean()\n",
    "print(average_accuracy_per_filter)"
   ]
  },
  {
   "cell_type": "markdown",
   "id": "e5ac2084-5457-4d02-8528-1644fa9b4d34",
   "metadata": {},
   "source": [
    "Analysis:\n",
    "-\n",
    "- The trend is mostly flat with a slight downward movement, indicating no significant correlation.\n",
    "- Although training time is longer when using a filter size of 5x5 compared to a filter size of 3x3, this graph suggests that filter size does not significantly impact training time in this case, or the impact is minimal relative to other factors."
   ]
  }
 ],
 "metadata": {
  "kernelspec": {
   "display_name": "Python 3 (ipykernel)",
   "language": "python",
   "name": "python3"
  },
  "language_info": {
   "codemirror_mode": {
    "name": "ipython",
    "version": 3
   },
   "file_extension": ".py",
   "mimetype": "text/x-python",
   "name": "python",
   "nbconvert_exporter": "python",
   "pygments_lexer": "ipython3",
   "version": "3.12.3"
  }
 },
 "nbformat": 4,
 "nbformat_minor": 5
}
